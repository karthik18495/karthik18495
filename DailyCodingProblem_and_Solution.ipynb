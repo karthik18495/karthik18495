{
  "nbformat": 4,
  "nbformat_minor": 0,
  "metadata": {
    "colab": {
      "name": "DailyCodingProblem_and_Solution.ipynb",
      "provenance": [],
      "collapsed_sections": [],
      "authorship_tag": "ABX9TyPJY0S1BRxI9waSPUgKnNRQ",
      "include_colab_link": true
    },
    "kernelspec": {
      "name": "python3",
      "display_name": "Python 3"
    },
    "language_info": {
      "name": "python"
    }
  },
  "cells": [
    {
      "cell_type": "markdown",
      "metadata": {
        "id": "view-in-github",
        "colab_type": "text"
      },
      "source": [
        "<a href=\"https://colab.research.google.com/github/karthik18495/karthik18495/blob/main/DailyCodingProblem_and_Solution.ipynb\" target=\"_parent\"><img src=\"https://colab.research.google.com/assets/colab-badge.svg\" alt=\"Open In Colab\"/></a>"
      ]
    },
    {
      "cell_type": "markdown",
      "source": [
        "# March 2022 Solutions to Daily Coding problems"
      ],
      "metadata": {
        "id": "rWn7KCyYw9P6"
      }
    },
    {
      "cell_type": "markdown",
      "source": [
        "## Problem 765 (Medium) Feb 28 2022\n",
        "\n",
        "### This problem was asked by Google.\n",
        "\n",
        "**Question**\n",
        "\n",
        "Good morning! Here's your coding interview problem for today.\n",
        "\n",
        "This problem was asked by Google.\n",
        "\n",
        "Given a singly linked list and an integer k, remove the kth last element from the list. k is guaranteed to be smaller than the length of the list.\n",
        "\n",
        "The list is very long, so making more than one pass is prohibitively expensive.\n",
        "\n",
        "Do this in constant space and in one pass.\n",
        "\n",
        "**Solution** (March 1 2022)\n",
        "\n"
      ],
      "metadata": {
        "id": "3MQIeAV-xkHI"
      }
    },
    {
      "cell_type": "markdown",
      "source": [
        "## Problem 766 (Medium) March 1 2022\n",
        "\n",
        "### This problem was asked by LinkedIn.\n",
        "\n",
        "**Question** \n",
        "\n",
        "Good morning! Here's your coding interview problem for today.\n",
        "\n",
        "This problem was asked by LinkedIn.\n",
        "\n",
        "You are given a string consisting of the letters x and y, such as `xyxxxyxyy`. In addition, you have an operation called flip, which changes a single x to y or vice versa.\n",
        "\n",
        "Determine how many times you would need to apply this operation to ensure that all x's come before all y's. In the preceding example, it suffices to flip the second and sixth characters, so you should return `2`.\n",
        "\n",
        "**Solution** (March 1 2022)\n",
        "\n",
        "Read from backward the string and determine and record the index of first occurence of `x`. Return the no.of `y` from `0` to the index\n",
        "\n",
        "```python\n",
        "def ReturnNoOfFlips(InputString, CharToCount = \"x\", CharToFlip = \"y\") -> int:\n",
        "\n",
        "  Index = len(InputString) - InputString[-1::-1].index(CharToCount) # find index\n",
        "  NoOfFlips = InputString[:Index].count(CharToFlip) # calc no of y's \n",
        "  return NoOfFlips\n",
        "\n",
        "# Get the input / Define the input\n",
        "\n",
        "InputString = \"yxyy\" # input(\"Enter the string : \")\n",
        "ReturnNoOfFlips(InputString)\n",
        "```"
      ],
      "metadata": {
        "id": "DkYaJhTir6ei"
      }
    },
    {
      "cell_type": "code",
      "source": [
        "#@title Solution 766\n",
        "\n",
        "def ReturnNoOfFlips(InputString, CharToCount = \"x\", CharToFlip = \"y\") -> int:\n",
        "  '''\n",
        "  Takes in string as input. Reads the string backward and records \n",
        "  the first occurance (`index`) of `CharToCount` and then counts no of occurances of \n",
        "  `CharToFlip` in the string between the start and the `index`.\n",
        "  '''\n",
        "\n",
        "  Index = len(InputString) - InputString[-1::-1].index(CharToCount) # find index\n",
        "  NoOfFlips = InputString[:Index].count(CharToFlip) # calc no of y's \n",
        "  return NoOfFlips\n",
        "\n",
        "# Get the input / Define the input\n",
        "\n",
        "InputString = \"yxyy\" # input(\"Enter the string : \")\n",
        "help(ReturnNoOfFlips)\n",
        "ReturnNoOfFlips(InputString)\n"
      ],
      "metadata": {
        "colab": {
          "base_uri": "https://localhost:8080/"
        },
        "cellView": "form",
        "id": "qxVIjwWDs2gX",
        "outputId": "c80ca20c-af63-4d83-a6a0-c777c3466fc4"
      },
      "execution_count": null,
      "outputs": [
        {
          "output_type": "stream",
          "name": "stdout",
          "text": [
            "Help on function ReturnNoOfFlips in module __main__:\n",
            "\n",
            "ReturnNoOfFlips(InputString, CharToCount='x', CharToFlip='y') -> int\n",
            "    Takes in string as input. Reads the string backward and records \n",
            "    the first occurance (`index`) of `CharToCount` and then counts no of occurances of \n",
            "    `CharToFlip` in the string between the start and the `index`.\n",
            "\n"
          ]
        },
        {
          "output_type": "execute_result",
          "data": {
            "text/plain": [
              "1"
            ]
          },
          "metadata": {},
          "execution_count": 107
        }
      ]
    },
    {
      "cell_type": "markdown",
      "source": [
        "## Problem 767 (Hard) March 2, 2022\n",
        "\n",
        "### This problem was asked by Google.\n",
        "\n",
        "---\n",
        "\n",
        "**Question**\n",
        "\n",
        "\n",
        "Good morning! Here's your coding interview problem for today.\n",
        "\n",
        "This problem was asked by Google.\n",
        "\n",
        "Given a word W and a string S, find all starting indices in S which are anagrams of W.\n",
        "\n",
        "For example, given that W is \"ab\", and S is \"abxaba\", return `0`, `3`, and `4`.\n",
        "\n",
        "---\n",
        "\n",
        "**Solution** (March 2, 2022)\n",
        "\n",
        "\n",
        "\n",
        "```python\n",
        "def ReturnAnagram(String, Word) -> list:\n",
        "  '''\n",
        "  Takes 2 arguments;\n",
        "  String - String to search an anagram\n",
        "  Word - Word that forms the anagram\n",
        "  Returns;\n",
        "  Start indices of the anagrams of `Word` in `String`\n",
        "  '''\n",
        "\n",
        "  # Find out all alphabets of the Word in String\n",
        "  indices = []\n",
        "  for ltr in Word:\n",
        "    indices += [index for index, i in enumerate(String) if i == ltr]\n",
        "  indices.sort() # this is key for the next steps\n",
        "\n",
        "  range_list = [indices[0]] # List that will contain the ranges of index formed for anagram\n",
        "\n",
        "\n",
        "  for i, j in zip(indices[:-1], indices[1:]):\n",
        "    if(j-i > 1):\n",
        "      range_list.append(i)\n",
        "      range_list.append(j)\n",
        "  \n",
        "  range_list.append(indices[-1]) # appending the final index too. not great algo\n",
        "  index_list = []\n",
        "  for i in range(0, len(range_list), 2):\n",
        "    for j in range(range_list[i], range_list[i+1]):\n",
        "      index_list.append(j)\n",
        "  return index_list\n",
        "```\n",
        "\n"
      ],
      "metadata": {
        "id": "4YcyPc12tgy4"
      }
    },
    {
      "cell_type": "code",
      "source": [
        "#@title Solution 767\n",
        "def ReturnAnagram(String, Word) -> list:\n",
        "  '''\n",
        "  Takes 2 arguments;\n",
        "  String - String to search an anagram\n",
        "  Word - Word that forms the anagram\n",
        "  Returns;\n",
        "  Start indices of the anagrams of `Word` in `String`\n",
        "  '''\n",
        "\n",
        "  # Find out all alphabets of the Word in String\n",
        "  indices = []\n",
        "  for ltr in Word:\n",
        "    indices += [index for index, i in enumerate(String) if i == ltr]\n",
        "  indices.sort() # this is key for the next steps\n",
        "\n",
        "  range_list = [indices[0]] # List that will contain the ranges of index formed for anagram\n",
        "\n",
        "\n",
        "  for i, j in zip(indices[:-1], indices[1:]):\n",
        "    if(j-i > 1):\n",
        "      range_list.append(i)\n",
        "      range_list.append(j)\n",
        "  \n",
        "  range_list.append(indices[-1]) # appending the final index too. not great algo\n",
        "  index_list = []\n",
        "  for i in range(0, len(range_list), 2):\n",
        "    for j in range(range_list[i], range_list[i+1]):\n",
        "      index_list.append(j)\n",
        "  return index_list\n",
        "\n",
        "ReturnAnagram(\"abxaba\", \"ab\")  \n",
        "#ReturnAnagram(\"rastersart\", \"rast\")"
      ],
      "metadata": {
        "id": "zNzj2zHHaTAJ",
        "colab": {
          "base_uri": "https://localhost:8080/"
        },
        "cellView": "form",
        "outputId": "44935694-f994-4bcd-b76f-d12c7443de1f"
      },
      "execution_count": null,
      "outputs": [
        {
          "output_type": "execute_result",
          "data": {
            "text/plain": [
              "[0, 3, 4]"
            ]
          },
          "metadata": {},
          "execution_count": 108
        }
      ]
    },
    {
      "cell_type": "markdown",
      "source": [
        "## Problem 768 (Hard) March 3, 2022 ❌\n",
        "\n",
        "### This problem was asked by Facebook.\n",
        "\n",
        "---\n",
        "\n",
        "**Question**\n",
        "\n",
        "\n",
        "Good morning! Here's your coding interview problem for today.\n",
        "\n",
        "This problem was asked by Facebook.\n",
        "\n",
        "Given an array of numbers of length `N`, find both the minimum and maximum using less than `2 * (N - 2)` comparisons.\n",
        "\n",
        "---\n",
        "\n",
        "**Solution** (March 3, 2022)\n",
        "\n",
        "There is not a complete solution.\n",
        "\n",
        "```python\n",
        "import random as rand\n",
        "\n",
        "def GetMinMax(List) -> tuple:\n",
        "  '''\n",
        "  Takes in the input array/List as input.\n",
        "  Returns a tuple of minimum, maximum, no_of_comparisons\n",
        "  '''\n",
        "  small = List[0]\n",
        "  large = List[0]\n",
        "  compare = 0\n",
        "\n",
        "  for i in List[1:]:\n",
        "    compare+=1\n",
        "    if(i > small):\n",
        "      compare += 1\n",
        "      if(large < i):\n",
        "        large = i\n",
        "    else:\n",
        "      small = i\n",
        "  return (small, large, compare)\n",
        "```"
      ],
      "metadata": {
        "id": "oHf4BbLERwPl"
      }
    },
    {
      "cell_type": "code",
      "source": [
        "#@title Solution 768 (Not completely correct)\n",
        "import random as rand\n",
        "\n",
        "def GetMinMax(List) -> tuple:\n",
        "  '''\n",
        "  Takes in the input array/List as input.\n",
        "  Returns a tuple of minimum, maximum, no_of_comparisons\n",
        "  '''\n",
        "  small = List[0]\n",
        "  large = List[0]\n",
        "  compare = 0\n",
        "\n",
        "  for i in List[1:]:\n",
        "    compare+=1\n",
        "    if(i > small):\n",
        "      compare += 1\n",
        "      if(large < i):\n",
        "        large = i\n",
        "    else:\n",
        "      small = i\n",
        "  return (small, large, compare)\n",
        "\n",
        "N = 10\n",
        "M = 500\n",
        "Compares = []\n",
        "for i in range(M):\n",
        "  List = [rand.randint(0, 100) for i in range(N)]\n",
        "  small, large, compare = GetMinMax(List)\n",
        "  #print (small, min(List))\n",
        "  #print (large, max(List))\n",
        "  #print (compare, 2*(N-2))\n",
        "  Compares.append(compare)\n",
        "\n",
        "# Visualise the no of comparisons made for M calls\n",
        "import matplotlib.pyplot as plt\n",
        "\n",
        "plt.figure(1, figsize = (8, 5))\n",
        "plt.hist(Compares, range = [2*N - 10, 2*N], align = 'left', \n",
        "         color = \"red\")\n",
        "plt.xlabel(\"No Of Comparisons\", fontsize = 15)\n",
        "plt.xticks(fontsize = 15)\n",
        "plt.ylabel(\"Frequency\", fontsize = 15)\n",
        "plt.yticks(fontsize = 15)\n",
        "plt.show()"
      ],
      "metadata": {
        "colab": {
          "base_uri": "https://localhost:8080/",
          "height": 344
        },
        "id": "XCzI_XBQd0SR",
        "outputId": "b54305c3-c75e-4a43-c06b-672e2dde31e9",
        "cellView": "form"
      },
      "execution_count": 48,
      "outputs": [
        {
          "output_type": "display_data",
          "data": {
            "image/png": "[encoded data removed]",
            "text/plain": [
              "<Figure size 576x360 with 1 Axes>"
            ]
          },
          "metadata": {
            "needs_background": "light"
          }
        }
      ]
    },
    {
      "cell_type": "markdown",
      "source": [
        ""
      ],
      "metadata": {
        "id": "up7BVfxGSbrV"
      }
    }
  ]
}